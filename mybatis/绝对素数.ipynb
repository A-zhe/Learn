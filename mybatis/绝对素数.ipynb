{
 "cells": [
  {
   "cell_type": "code",
   "execution_count": 6,
   "metadata": {},
   "outputs": [
    {
     "name": "stdout",
     "output_type": "stream",
     "text": [
      "请输入范围：10 99\n",
      "11\n",
      "13\n",
      "17\n",
      "31\n",
      "37\n",
      "71\n",
      "73\n",
      "79\n",
      "97\n"
     ]
    }
   ],
   "source": [
    "def judgement_primes(x):#判断是否时素数\n",
    "    if x == 1:\n",
    "        return False\n",
    "    for i in range(2, x):\n",
    "        if x % i == 0:\n",
    "            return  False\n",
    "    return True\n",
    "def reverse(x):#将整数逆序\n",
    "    ret = 0\n",
    "    while x:\n",
    "        last = x % 10\n",
    "        ret = ret * 10 + last\n",
    "        x //= 10\n",
    "    return ret\n",
    "a = [int(s) for s in input(\"请输入范围：\").split()]\n",
    "b = []\n",
    "for i in range(a[0] , a[1]+1):\n",
    "    if judgement_primes(i):\n",
    "        if judgement_primes(reverse(i)):\n",
    "            b.append(i)\n",
    "for x in b:\n",
    "    print(x)"
   ]
  },
  {
   "cell_type": "code",
   "execution_count": null,
   "metadata": {},
   "outputs": [],
   "source": []
  }
 ],
 "metadata": {
  "kernelspec": {
   "display_name": "Python 3",
   "language": "python",
   "name": "python3"
  },
  "language_info": {
   "codemirror_mode": {
    "name": "ipython",
    "version": 3
   },
   "file_extension": ".py",
   "mimetype": "text/x-python",
   "name": "python",
   "nbconvert_exporter": "python",
   "pygments_lexer": "ipython3",
   "version": "3.7.6"
  }
 },
 "nbformat": 4,
 "nbformat_minor": 4
}
